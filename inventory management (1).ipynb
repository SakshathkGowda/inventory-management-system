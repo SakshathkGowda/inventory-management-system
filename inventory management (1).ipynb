{
 "cells": [
  {
   "cell_type": "code",
   "execution_count": 2,
   "id": "2d95ee3a",
   "metadata": {},
   "outputs": [],
   "source": [
    "import json\n",
    "fd=open(\"mylist.json\",'w')"
   ]
  },
  {
   "cell_type": "code",
   "execution_count": 6,
   "id": "0232c473",
   "metadata": {},
   "outputs": [],
   "source": [
    "store={100:{\"product\":\"nandini milk\",\"price\":22,\"quantity\":100,\"mfgmonth\":\"november\",\"expyear\":2021},\n",
    "      101:{\"product\":\"caudbery dairy milk\",\"price\":10,\"quantity\":140,\"mfgmonth\":\"january\",\"expyear\":2023},\n",
    "      102:{\"product\":\"parle g\",\"price\":10,\"quantity\":40,\"mfgmonth\":\"january\",\"expyear\":2023},\n",
    "      103:{\"product\":\"lays\",\"price\":5,\"quantity\":120,\"mfgmonth\":\"feb\",\"expyear\":2026},\n",
    "      104:{\"product\":\"kurkure\",\"price\":10,\"quantity\":140,\"mfgmonth\":\"febrauary\",\"expyear\":2026},\n",
    "      105:{\"product\":\"Rin soap\",\"price\":25,\"quantity\":100,\"mfgmonth\":\"june\",\"expyear\":2025},\n",
    "      106:{\"product\":\"lifeboy\",\"price\":27,\"quantity\":72,\"mfgmonth\":\"june\",\"expyear\":2028},\n",
    "      107:{\"product\":\"Santoor\",\"price\":29,\"quantity\":60,\"mfgmonth\":\"august\",\"expyear\":2026},\n",
    "      108:{\"product\":\"surfexel\",\"price\":35,\"quantity\":40,\"mfgmonth\":\"january\",\"expyear\":2030},\n",
    "      109:{\"product\":\"sprite\",\"price\":40,\"quantity\":200,\"mfgmonth\":\"january\",\"expyear\":2022},\n",
    "      110:{\"product\":\"cococola\",\"price\":42,\"quantity\":20,\"mfgmonth\":\"march\",\"expyear\":2022},\n",
    "      111:{\"product\":\"chicken masala\",\"price\":10,\"quantity\":100,\"mfgmonth\":\"june\",\"expyear\":2025},\n",
    "      112:{\"product\":\"garam masala\",\"price\":10,\"quantity\":90,\"mfgmonth\":\"november\",\"expyear\":2025},\n",
    "      113:{\"product\":\"kinder joy\",\"price\":25,\"quantity\":76,\"mfgmonth\":\"april\",\"expyear\":2024},\n",
    "      114:{\"product\":\"medimix\",\"price\":32,\"quantity\":30,\"mfgmonth\":\"january\",\"expyear\":2026},\n",
    "      115:{\"product\":\"dove shampoo\",\"price\":60,\"quantity\":120,\"mfgmonth\":\"march\",\"expyear\":2025},\n",
    "      116:{\"product\":\"icecream\",\"price\":15,\"quantity\":40,\"mfgmonth\":\"december\",\"expyear\":2022},\n",
    "      117:{\"product\":\"Axe perfume\",\"price\":90,\"quantity\":30,\"mfgmonth\":\"july\",\"expyear\":2026},\n",
    "      118:{\"product\":\"gone mad\",\"price\":10,\"quantity\":140,\"mfgmonth\":\"august\",\"expyear\":2024},\n",
    "      119:{\"product\":\"Bingo\",\"price\":20,\"quantity\":36,\"mfgmonth\":\"june\",\"expyear\":2024},\n",
    "      120:{\"product\":\"headandshoulder\",\"price\":1,\"quantity\":400,\"mfgmonth\":\"january\",\"expyear\":2029},\n",
    "      121:{\"product\":\"dove soap\",\"price\":30,\"quantity\":300,\"mfgmonth\":\"september\",\"expyear\":2030},\n",
    "      122:{\"product\":\"Sunsilk\",\"price\":2,\"quantity\":345,\"mfgmonth\":\"\",\"expyear\":2026},\n",
    "      123:{\"product\":\"layers shot\",\"price\":123,\"quantity\":30,\"mfgmonth\":\"june\",\"expyear\":2030},\n",
    "      124:{\"product\":\"dairy milk shot\",\"price\":2,\"quantity\":140,\"mfgmonth\":\"january\",\"expyear\":2022},\n",
    "      125:{\"product\":\"milky bar\",\"price\":5,\"quantity\":200,\"mfgmonth\":\"march\",\"expyear\":2022},\n",
    "      126:{\"product\":\"bleaching powder\",\"price\":34,\"quantity\":40,\"mfgmonth\":\"febrauary\",\"expyear\":2024},\n",
    "      127:{\"product\":\"phenol\",\"price\":45,\"quantity\":10,\"mfgmonth\":\"march19\",\"expyear\":2025},\n",
    "      128:{\"product\":\"tropicana\",\"price\":90,\"quantity\":60,\"mfgmonth\":\"december19\",\"expyear\":2023},\n",
    "      129:{\"product\":\"kitkat\",\"price\":10,\"quantity\":24,\"mfgmonth\":\"march19\",\"expyear\":2024},\n",
    "      130:{\"product\":\"sunflower oil\",\"price\":150,\"quantity\":45,\"mfgmonth\":\"november19\",\"expyear\":2025},}\n",
    "js=json.dumps(store)"
   ]
  },
  {
   "cell_type": "code",
   "execution_count": 7,
   "id": "7986cb0e",
   "metadata": {},
   "outputs": [
    {
     "data": {
      "text/plain": [
       "'{\"100\": {\"product\": \"nandini milk\", \"price\": 22, \"quantity\": 100, \"mfgmonth\": \"november\", \"expyear\": 2021}, \"101\": {\"product\": \"caudbery dairy milk\", \"price\": 10, \"quantity\": 140, \"mfgmonth\": \"january\", \"expyear\": 2023}, \"102\": {\"product\": \"parle g\", \"price\": 10, \"quantity\": 40, \"mfgmonth\": \"january\", \"expyear\": 2023}, \"103\": {\"product\": \"lays\", \"price\": 5, \"quantity\": 120, \"mfgmonth\": \"feb\", \"expyear\": 2026}, \"104\": {\"product\": \"kurkure\", \"price\": 10, \"quantity\": 140, \"mfgmonth\": \"febrauary\", \"expyear\": 2026}, \"105\": {\"product\": \"Rin soap\", \"price\": 25, \"quantity\": 100, \"mfgmonth\": \"june\", \"expyear\": 2025}, \"106\": {\"product\": \"lifeboy\", \"price\": 27, \"quantity\": 72, \"mfgmonth\": \"june\", \"expyear\": 2028}, \"107\": {\"product\": \"Santoor\", \"price\": 29, \"quantity\": 60, \"mfgmonth\": \"august\", \"expyear\": 2026}, \"108\": {\"product\": \"surfexel\", \"price\": 35, \"quantity\": 40, \"mfgmonth\": \"january\", \"expyear\": 2030}, \"109\": {\"product\": \"sprite\", \"price\": 40, \"quantity\": 200, \"mfgmonth\": \"january\", \"expyear\": 2022}, \"110\": {\"product\": \"cococola\", \"price\": 42, \"quantity\": 20, \"mfgmonth\": \"march\", \"expyear\": 2022}, \"111\": {\"product\": \"chicken masala\", \"price\": 10, \"quantity\": 100, \"mfgmonth\": \"june\", \"expyear\": 2025}, \"112\": {\"product\": \"garam masala\", \"price\": 10, \"quantity\": 90, \"mfgmonth\": \"november\", \"expyear\": 2025}, \"113\": {\"product\": \"kinder joy\", \"price\": 25, \"quantity\": 76, \"mfgmonth\": \"april\", \"expyear\": 2024}, \"114\": {\"product\": \"medimix\", \"price\": 32, \"quantity\": 30, \"mfgmonth\": \"january\", \"expyear\": 2026}, \"115\": {\"product\": \"dove shampoo\", \"price\": 60, \"quantity\": 120, \"mfgmonth\": \"march\", \"expyear\": 2025}, \"116\": {\"product\": \"icecream\", \"price\": 15, \"quantity\": 40, \"mfgmonth\": \"december\", \"expyear\": 2022}, \"117\": {\"product\": \"Axe perfume\", \"price\": 90, \"quantity\": 30, \"mfgmonth\": \"july\", \"expyear\": 2026}, \"118\": {\"product\": \"gone mad\", \"price\": 10, \"quantity\": 140, \"mfgmonth\": \"august\", \"expyear\": 2024}, \"119\": {\"product\": \"Bingo\", \"price\": 20, \"quantity\": 36, \"mfgmonth\": \"june\", \"expyear\": 2024}, \"120\": {\"product\": \"headandshoulder\", \"price\": 1, \"quantity\": 400, \"mfgmonth\": \"january\", \"expyear\": 2029}, \"121\": {\"product\": \"dove soap\", \"price\": 30, \"quantity\": 300, \"mfgmonth\": \"september\", \"expyear\": 2030}, \"122\": {\"product\": \"Sunsilk\", \"price\": 2, \"quantity\": 345, \"mfgmonth\": \"\", \"expyear\": 2026}, \"123\": {\"product\": \"layers shot\", \"price\": 123, \"quantity\": 30, \"mfgmonth\": \"june\", \"expyear\": 2030}, \"124\": {\"product\": \"dairy milk shot\", \"price\": 2, \"quantity\": 140, \"mfgmonth\": \"january\", \"expyear\": 2022}, \"125\": {\"product\": \"milky bar\", \"price\": 5, \"quantity\": 200, \"mfgmonth\": \"march\", \"expyear\": 2022}, \"126\": {\"product\": \"bleaching powder\", \"price\": 34, \"quantity\": 40, \"mfgmonth\": \"febrauary\", \"expyear\": 2024}, \"127\": {\"product\": \"phenol\", \"price\": 45, \"quantity\": 10, \"mfgmonth\": \"march19\", \"expyear\": 2025}, \"128\": {\"product\": \"tropicana\", \"price\": 90, \"quantity\": 60, \"mfgmonth\": \"december19\", \"expyear\": 2023}, \"129\": {\"product\": \"kitkat\", \"price\": 10, \"quantity\": 24, \"mfgmonth\": \"march19\", \"expyear\": 2024}, \"130\": {\"product\": \"sunflower oil\", \"price\": 150, \"quantity\": 45, \"mfgmonth\": \"november19\", \"expyear\": 2025}}'"
      ]
     },
     "execution_count": 7,
     "metadata": {},
     "output_type": "execute_result"
    }
   ],
   "source": [
    "js"
   ]
  },
  {
   "cell_type": "code",
   "execution_count": 8,
   "id": "bb969270",
   "metadata": {},
   "outputs": [
    {
     "data": {
      "text/plain": [
       "3166"
      ]
     },
     "execution_count": 8,
     "metadata": {},
     "output_type": "execute_result"
    }
   ],
   "source": [
    "fd.write(js)"
   ]
  },
  {
   "cell_type": "code",
   "execution_count": 10,
   "id": "236a40d3",
   "metadata": {},
   "outputs": [],
   "source": [
    "fd.close()"
   ]
  },
  {
   "cell_type": "code",
   "execution_count": 26,
   "id": "9d5d6851",
   "metadata": {},
   "outputs": [
    {
     "name": "stdout",
     "output_type": "stream",
     "text": [
      "enter the number of quantites:3\n",
      "enter the product id:100\n",
      "enter the quantity of your product:90\n",
      "enter the product id:101\n",
      "enter the quantity of your product:67\n",
      "enter the product id:103\n",
      "enter the quantity of your product:100\n"
     ]
    },
    {
     "data": {
      "text/plain": [
       "22"
      ]
     },
     "execution_count": 26,
     "metadata": {},
     "output_type": "execute_result"
    }
   ],
   "source": [
    "doc=open(\"cart.txt\",'w')\n",
    "quant=int(input(\"enter the number of quantites:\"))\n",
    "fd=open(\"mylist.json\",\"r\")\n",
    "rd=fd.read()\n",
    "invoice=json.loads(rd)\n",
    "buy=\"\\n you just bought item/s \\t\"\n",
    "bill=0\n",
    "for i in range(quant):\n",
    "    pro_id=(input(\"enter the product id:\"))\n",
    "    vol=int(input(\"enter the quantity of your product:\"))\n",
    "    if vol<invoice[pro_id][\"quantity\"]:\n",
    "        invoice[pro_id][\"quantity\"]=invoice[pro_id][\"quantity\"]-vol\n",
    "        bill+=vol*invoice[pro_id][\"price\"]\n",
    "    doc.write(\"you just bought {} of {} product name {} and expiery year{}\\n\".format(str(vol) , str(pro_id) , str(invoice[pro_id][\"product\"]) , str(invoice[pro_id][\"expyear\"])))\n",
    "doc.write(\"\\n Your total bill {}\".format(str(bill)))\n",
    "        "
   ]
  }
 ],
 "metadata": {
  "kernelspec": {
   "display_name": "Python 3",
   "language": "python",
   "name": "python3"
  },
  "language_info": {
   "codemirror_mode": {
    "name": "ipython",
    "version": 3
   },
   "file_extension": ".py",
   "mimetype": "text/x-python",
   "name": "python",
   "nbconvert_exporter": "python",
   "pygments_lexer": "ipython3",
   "version": "3.8.8"
  }
 },
 "nbformat": 4,
 "nbformat_minor": 5
}
